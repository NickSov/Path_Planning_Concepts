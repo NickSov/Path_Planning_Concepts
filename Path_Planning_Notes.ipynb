{
 "cells": [
  {
   "cell_type": "markdown",
   "metadata": {},
   "source": [
    "# Path Planning Notes\n",
    "\n",
    "The following serves as my notes on the path planning module in the Udacity Self Driving Car Engineer Program\n",
    "\n",
    "## The Elements of Path Planning\n",
    "\n",
    "\n",
    "## Search Algorithm Exploration\n",
    "\n",
    "### Simple Search\n",
    "\n",
    "The algorithm below is a simple search algorithm that determines the shortest length path from a start node to an end node. If the grid provided has a blockage between the start node and the goal node, then the alogrithm indicates that \"No viable path can be found\". \n",
    "\n",
    "**Features:**\n",
    "\n",
    "[X] Outputs expansion matrix - this matrix shows the order in which cells/nodes are expanded\n",
    "  \n",
    "\n"
   ]
  },
  {
   "cell_type": "code",
   "execution_count": 8,
   "metadata": {},
   "outputs": [],
   "source": [
    "# ----------\n",
    "# User Instructions:\n",
    "# \n",
    "# Define a function, search() that returns a list\n",
    "# in the form of [optimal path length, row, col]. For\n",
    "# the grid shown below, your function should output\n",
    "# [11, 4, 5].\n",
    "#\n",
    "# If there is no valid path from the start point\n",
    "# to the goal, your function should return the string\n",
    "# 'fail'\n",
    "# ----------\n",
    "\n",
    "# Grid format:\n",
    "#   0 = Navigable space\n",
    "#   1 = Occupied space\n",
    "\n",
    "def search(grid,init,goal,cost):\n",
    "    ## BASIC SEARCH FUNCTION\n",
    "    ## ----------------------\n",
    "    ## Nicholas Atanasov, May 5th, 2019\n",
    "    ## Function which conducts a basic search from a start cell to a goal cell\n",
    "    ## within a given grid. \n",
    "    ## \n",
    "    ## TERMS\n",
    "    ## ------\n",
    "    ## g-value: number of expansions it takes to get to a certain node\n",
    "\n",
    "        \n",
    "    # Initial variable\n",
    "    \n",
    "    openCells = [[init,0]] # intiate openCells list based on starting grid cell and a g-value of 0\n",
    "    visitedCells = [] # cells which have already been visited, include starting cell\n",
    "    expansionVal = 0; # starting expansion value, indicates when a node was expanded\n",
    "    noPathFound = 0\n",
    "    goalReached = 0\n",
    "    k=0\n",
    "    \n",
    "    delta = [[-1, 0], # go up\n",
    "         [ 0,-1], # go left\n",
    "         [ 1, 0], # go down\n",
    "         [ 0, 1]] # go right\n",
    "    \n",
    "    expansionMatrix = [] # Empty matrix for expansion sequence values, size based on grid \n",
    "    expansionMatrixCols = []\n",
    "    \n",
    "    for i in range(len(grid)):        \n",
    "        for j in range(len(grid[0])):\n",
    "            expansionMatrixCols.append(0)\n",
    "        expansionMatrix.append(expansionMatrixCols)    \n",
    "        expansionMatrixCols = []              \n",
    "    \n",
    "    # Run until the goal grid cell is reached\n",
    "    \n",
    "    print(\"Searching...\")\n",
    "    \n",
    "    counter = 0\n",
    "    \n",
    "    while goalReached == 0:\n",
    "        \n",
    "    \n",
    "        # Sort the openCell values so that the lowest g-value cell is first in the list\n",
    "\n",
    "        tempList = []\n",
    "        minValIndex = 0\n",
    "\n",
    "        OrgLenOCells = len(openCells) # lenght of original opencell list\n",
    "\n",
    "        for i in range(OrgLenOCells):\n",
    "            minVal = 100 # reset minVal to high value\n",
    "            for j in range(len(openCells)):\n",
    "                currentVal = openCells[j][1]\n",
    "                if currentVal < minVal:\n",
    "                    minVal = openCells[j][1]\n",
    "                    minValIndex = j\n",
    "            tempList.append(openCells[minValIndex])\n",
    "            openCells.remove(openCells[minValIndex])\n",
    "\n",
    "        openCells = tempList\n",
    "       \n",
    "        if openCells == []: # check to see if there is no viable path\n",
    "            print(\"No viable path can be found \\n\")\n",
    "            noPathFound = 1 \n",
    "            break\n",
    "            \n",
    "        currentBestCell = openCells[0] # lowest g-value cell, node to be expanded\n",
    "        gValCurCell = openCells[0][1] # g-value if the best cell in openCells \n",
    "        x = currentBestCell[0][0]\n",
    "        y = currentBestCell[0][1]\n",
    "\n",
    "        expansionMatrix[x][y] = expansionVal                       \n",
    "        expansionVal = expansionVal+1 \n",
    " \n",
    "        if openCells[0][0] != goal:\n",
    "\n",
    "            # Expansion: try moving in all directions to discover new navigable cells for the current lowest g-value cell        \n",
    "\n",
    "            for j in range(len(delta)): #cycle through all possible movement/expansion options\n",
    "                    xMove = delta[j][0]\n",
    "                    yMove = delta[j][1]\n",
    "                    xFuture = x+xMove\n",
    "                    yFuture = y+yMove\n",
    "                    inOpenList = 0 # reset value for checking if in openList\n",
    "                    \n",
    "                    for k in range(len(openCells)):\n",
    "                        if [xFuture, yFuture] == openCells[k][0]:\n",
    "                            inOpenList = 1 # 1 (True) if the potential cell we are moving to is in openCells                            \n",
    "                    \n",
    "                    if (xFuture >= 0) and (yFuture >=0) and (yFuture <= len(grid[0])-1) and (xFuture <= len(grid)-1): # check if off grid                        \n",
    "                        if (grid[xFuture][yFuture] != 1): # check if cell is occupied                            \n",
    "                            if [xFuture, yFuture] not in visitedCells: # checked if the cell was already visited\n",
    "                                if inOpenList == 0: # make sure cell is not in openCells                              \n",
    "                                        openCells.append([[xFuture, yFuture],gValCurCell+cost]) # append the recently expanded to cell to the visited cells list, add cost for expanding\n",
    "                               \n",
    "\n",
    "            visitedCells.append(currentBestCell[0]) # add expanded cell to visited cells list, mark off cell so as to not visit again\n",
    "            openCells.remove(currentBestCell) # remove the expanded cell from the open list of cell\n",
    "                \n",
    "        else: \n",
    "            goalReached = 1   \n",
    "        \n",
    "        \n",
    "    for i in range(len(expansionMatrix)):\n",
    "        for j in range(len(expansionMatrix[0])):\n",
    "            if expansionMatrix[i][j] == 0 and [i, j] != init:\n",
    "                expansionMatrix[i][j] = -1\n",
    "                \n",
    "        \n",
    "    if noPathFound == 1:\n",
    "        path = 'fail'\n",
    "    else:\n",
    "        path = [openCells[0][1],openCells[0][0][0],openCells[0][0][1]] # output: [optimal path g-value(length), row, column]\n",
    "        print('Optimal path found!')\n",
    "        print('[Path Length, Goal Row #, Goal Column #] = ', path, '\\n')\n",
    "        print(expansionMatrix[0],'\\n',expansionMatrix[1],'\\n',expansionMatrix[2],'\\n',expansionMatrix[3],'\\n',expansionMatrix[4])\n",
    "        \n",
    "                                            \n",
    "    return path"
   ]
  },
  {
   "cell_type": "code",
   "execution_count": 10,
   "metadata": {},
   "outputs": [
    {
     "name": "stdout",
     "output_type": "stream",
     "text": [
      "Searching...\n",
      "Optimal path found!\n",
      "[Path Length, Goal Row #, Goal Column #] =  [11, 4, 5] \n",
      "\n"
     ]
    }
   ],
   "source": [
    "## Basic search algorithm test \n",
    "\n",
    "# Optimal path possible grid\n",
    "\n",
    "grid = [[0, 0, 1, 0, 0, 0],\n",
    "        [0, 0, 1, 0, 0, 0],\n",
    "        [0, 0, 0, 0, 1, 0],\n",
    "        [0, 0, 1, 1, 1, 0],\n",
    "        [0, 0, 0, 0, 1, 0]]\n",
    "\n",
    "# Blocked Grid\n",
    "\n",
    "# grid = [[0, 1, 0, 1, 0, 0, 0],\n",
    "#         [0, 1, 0, 1, 0, 0, 0], \n",
    "#         [0, 1, 0, 1, 0, 0, 0], \n",
    "#         [0, 1, 0, 1, 0, 0, 0], \n",
    "#         [0, 0, 0, 1, 0, 0, 0]]\n",
    "\n",
    "init = [0, 0]\n",
    "goal = [len(grid)-1, len(grid[0])-1]\n",
    "cost = 1\n",
    "\n",
    "test = search(grid,init,goal,cost)"
   ]
  },
  {
   "cell_type": "markdown",
   "metadata": {},
   "source": [
    "### Simple Search + Add'l Features (Expansion grid & Optimal Path List)\n"
   ]
  },
  {
   "cell_type": "code",
   "execution_count": 142,
   "metadata": {},
   "outputs": [],
   "source": [
    "\n"
   ]
  },
  {
   "cell_type": "code",
   "execution_count": 73,
   "metadata": {},
   "outputs": [
    {
     "name": "stdout",
     "output_type": "stream",
     "text": [
      "[[[0, 1], 1], [[2, 0], 2], [[1, 1], 2]]\n"
     ]
    },
    {
     "data": {
      "text/plain": [
       "True"
      ]
     },
     "execution_count": 73,
     "metadata": {},
     "output_type": "execute_result"
    }
   ],
   "source": [
    "cell = [[[0, 1], 1], [[2, 0], 2], [[1, 1], 2]]\n",
    "\n"
   ]
  },
  {
   "cell_type": "code",
   "execution_count": 143,
   "metadata": {},
   "outputs": [
    {
     "name": "stdout",
     "output_type": "stream",
     "text": [
      "Searching...\n",
      "Optimal path found!\n",
      "[Path Length, Goal Row #, Goal Column #] =  [11, 4, 5] \n",
      "\n",
      "[0, 2, -1, 15, 17, 19] \n",
      " [1, 4, -1, 13, 16, 18] \n",
      " [3, 6, 9, 11, -1, 20] \n",
      " [5, 8, -1, -1, -1, 21] \n",
      " [7, 10, 12, 14, -1, 22]\n"
     ]
    }
   ],
   "source": [
    "## Basic search algorithm test \n",
    "\n",
    "# Optimal path possible grid\n",
    "\n",
    "grid = [[0, 0, 1, 0, 0, 0],\n",
    "        [0, 0, 1, 0, 0, 0],\n",
    "        [0, 0, 0, 0, 1, 0],\n",
    "        [0, 0, 1, 1, 1, 0],\n",
    "        [0, 0, 0, 0, 1, 0]]\n",
    "\n",
    "# Blocked Grid\n",
    "\n",
    "# grid = [[0, 1, 0, 1, 0, 0, 0],\n",
    "#         [0, 1, 0, 1, 0, 0, 0], \n",
    "#         [0, 1, 0, 1, 0, 0, 0], \n",
    "#         [0, 1, 0, 1, 0, 0, 0], \n",
    "#         [0, 0, 0, 1, 0, 0, 0]]\n",
    "\n",
    "init = [0, 0]\n",
    "goal = [len(grid)-1, len(grid[0])-1]\n",
    "cost = 1\n",
    "\n",
    "test = search(grid,init,goal,cost)"
   ]
  },
  {
   "cell_type": "code",
   "execution_count": 51,
   "metadata": {},
   "outputs": [
    {
     "name": "stdout",
     "output_type": "stream",
     "text": [
      "[[0, 0, 1, 0, 0, 0], [0, 0, 1, 0, 0, 0], [0, 0, 0, 0, 1, 0], [0, 0, 1, 1, 1, 0], [0, 0, 0, 0, 1, 0]]\n",
      "[[0, 0, 1, 5, 0, 0], [0, 0, 1, 0, 0, 0], [0, 0, 0, 0, 1, 0], [0, 0, 1, 1, 1, 0], [0, 0, 0, 0, 1, 0]]\n"
     ]
    }
   ],
   "source": [
    "grid = [[0, 0, 1, 0, 0, 0],\n",
    "        [0, 0, 1, 0, 0, 0],\n",
    "        [0, 0, 0, 0, 1, 0],\n",
    "        [0, 0, 1, 1, 1, 0],\n",
    "        [0, 0, 0, 0, 1, 0]]\n",
    "\n",
    "\n",
    "print(grid) \n",
    "grid[0][3] = 5\n",
    "print(grid) "
   ]
  }
 ],
 "metadata": {
  "kernelspec": {
   "display_name": "Python 3",
   "language": "python",
   "name": "python3"
  },
  "language_info": {
   "codemirror_mode": {
    "name": "ipython",
    "version": 3
   },
   "file_extension": ".py",
   "mimetype": "text/x-python",
   "name": "python",
   "nbconvert_exporter": "python",
   "pygments_lexer": "ipython3",
   "version": "3.6.4"
  }
 },
 "nbformat": 4,
 "nbformat_minor": 2
}
